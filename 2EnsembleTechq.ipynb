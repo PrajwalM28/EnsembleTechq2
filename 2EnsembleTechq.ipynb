{
 "cells": [
  {
   "cell_type": "markdown",
   "id": "60feec63-c5be-41cf-8e13-023bd63eed5f",
   "metadata": {},
   "source": [
    "# Q1.\n",
    "### How does bagging reduce overfitting in decision trees?"
   ]
  },
  {
   "cell_type": "markdown",
   "id": "5b6c9bb7-d04c-4777-8d62-18c9abc7274e",
   "metadata": {},
   "source": [
    "- Bagging reduces overfitting in decision trees by creating multiple bootstrapped samples from the training data and training each decision tree on a different subset of the data. By averaging the predictions of multiple trees, bagging reduces the variance of the model, which helps to prevent overfitting."
   ]
  },
  {
   "cell_type": "markdown",
   "id": "0b645e4a-1a69-4a76-9143-288583248a67",
   "metadata": {},
   "source": [
    "# Q2.\n",
    "### What are the advantages and disadvantages of using different types of base learners in bagging?"
   ]
  },
  {
   "cell_type": "markdown",
   "id": "412c0a71-40b7-4a29-91a8-0765c73fe921",
   "metadata": {},
   "source": [
    "- Advantages : \n",
    "    - Increased diversity in the ensemble, which can improve the overall performance.\n",
    "    - Ability to capture different aspects of the data.\n",
    "    - Robustness to noise and outliers.\n",
    "    \n",
    "- Disadvantages : \n",
    "    - Increased computational complexity, especially if base learners are computationally expensive.\n",
    "    - Difficulty in interpreting the combined model if base learners are highly diverse."
   ]
  },
  {
   "cell_type": "markdown",
   "id": "06b67f01-0432-43a9-bfb8-57cb1c003fac",
   "metadata": {},
   "source": [
    "# Q3.\n",
    "### How does the choice of base learner affect the bias-variance tradeoff in bagging?"
   ]
  },
  {
   "cell_type": "markdown",
   "id": "5f1cae0c-5f4a-4259-b25f-7aba479de69d",
   "metadata": {},
   "source": [
    "- by influencing the overall bias and variance of the ensemble. Using base learners with higher variance  can lead to a reduction in bias but may increase the variance of the ensemble."
   ]
  },
  {
   "cell_type": "markdown",
   "id": "d595f618-eb6e-4e2b-afc7-adda7a061af9",
   "metadata": {},
   "source": [
    "# Q4.\n",
    "###  Can bagging be used for both classification and regression tasks? How does it differ in each case?"
   ]
  },
  {
   "cell_type": "markdown",
   "id": "0f13bf7f-bab3-47ae-ba07-a688466c1cc4",
   "metadata": {},
   "source": [
    "- Yes, bagging can be used for both classification and regression tasks. In classification tasks, the final prediction is typically made by majority voting among the predictions of individual base learners. In regression tasks, the final prediction is often made by averaging the predictions of individual base learners."
   ]
  },
  {
   "cell_type": "markdown",
   "id": "77021871-943d-4565-bf4b-aa1e85b6b871",
   "metadata": {},
   "source": [
    "# Q5.\n",
    "### What is the role of ensemble size in bagging? How many models should be included in the ensemble?"
   ]
  },
  {
   "cell_type": "markdown",
   "id": "135506eb-28b5-4a66-a115-51db672ada22",
   "metadata": {},
   "source": [
    "- The ensemble size in bagging refers to the number of base learners included in the ensemble. Generally, increasing the ensemble size can lead to better performance up to a certain point. However, after reaching a certain threshold, the performance improvement may plateau or even decrease due to diminishing returns or overfitting. The optimal ensemble size depends on factors such as the complexity of the problem, the diversity of base learners, and computational constraints."
   ]
  },
  {
   "cell_type": "markdown",
   "id": "5a5f4882-e010-43ba-83db-c99726253e68",
   "metadata": {},
   "source": [
    "# Q6.\n",
    "###  Can you provide an example of a real-world application of bagging in machine learning?"
   ]
  },
  {
   "cell_type": "markdown",
   "id": "132a1267-2602-4c51-8bcc-e09892161e12",
   "metadata": {},
   "source": [
    "- Finance for stock market prediction."
   ]
  }
 ],
 "metadata": {
  "kernelspec": {
   "display_name": "Python 3 (ipykernel)",
   "language": "python",
   "name": "python3"
  },
  "language_info": {
   "codemirror_mode": {
    "name": "ipython",
    "version": 3
   },
   "file_extension": ".py",
   "mimetype": "text/x-python",
   "name": "python",
   "nbconvert_exporter": "python",
   "pygments_lexer": "ipython3",
   "version": "3.10.8"
  }
 },
 "nbformat": 4,
 "nbformat_minor": 5
}
